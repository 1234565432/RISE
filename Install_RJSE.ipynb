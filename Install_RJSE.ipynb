{
 "metadata": {
  "name": "",
  "signature": "sha256:b53084ae2f6d9344c9109172a0017c61e9e47f07784bcd484fdd969bd654879a"
 },
 "nbformat": 3,
 "nbformat_minor": 0,
 "worksheets": [
  {
   "cells": [
    {
     "cell_type": "heading",
     "level": 1,
     "metadata": {},
     "source": [
      "How do I install RJSE/RISE?"
     ]
    },
    {
     "cell_type": "markdown",
     "metadata": {},
     "source": [
      "This notebook will install the RJSE/RISE extension in a rise profile, so after executing the next cell, you will only need to start the ipython notebook in the proper profile:\n",
      "\n",
      "`ipython notebook --profile=rise`"
     ]
    },
    {
     "cell_type": "code",
     "collapsed": false,
     "input": [
      "import os\n",
      "import IPython.html.nbextensions as nbext\n",
      "\n",
      "# download rise extension\n",
      "nbext_name = \"live_reveal\"\n",
      "version = \"2.x\"\n",
      "url = \"https://github.com/damianavila/\" + nbext_name + \"/archive/\" + version + \".zip\"\n",
      "nbext.install_nbextension(url)\n",
      "\n",
      "# relocate the extension in the nbextension folder\n",
      "nbext_folder = os.path.join(nbext.get_ipython_dir(), \"nbextensions\")\n",
      "install_folder = os.path.join(nbext_folder, nbext_name + \"-\" + version)\n",
      "rise_folder =  os.path.join(install_folder, \"livereveal\")\n",
      "!mv {rise_folder} {nbext_folder}\n",
      "\n",
      "# create a rise profile and add the proper custom.js\n",
      "!ipython profile create rise\n",
      "custom_js = os.path.join(nbext_folder, nbext_name + \"-\" + version, \"custom.js\")\n",
      "tgt = os.path.join(nbext.get_ipython_dir(), 'profile_rise', 'static', 'custom')\n",
      "!mv {custom_js} {tgt}\n",
      "\n",
      "# clean the mess\n",
      "!rm -r {install_folder}"
     ],
     "language": "python",
     "metadata": {},
     "outputs": [],
     "prompt_number": 62
    },
    {
     "cell_type": "code",
     "collapsed": false,
     "input": [],
     "language": "python",
     "metadata": {},
     "outputs": []
    }
   ],
   "metadata": {}
  }
 ]
}